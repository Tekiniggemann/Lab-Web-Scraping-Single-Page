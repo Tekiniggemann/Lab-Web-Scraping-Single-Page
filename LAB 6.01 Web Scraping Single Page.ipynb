{
 "cells": [
  {
   "cell_type": "code",
   "execution_count": 1,
   "id": "25dc1cfb",
   "metadata": {},
   "outputs": [],
   "source": [
    "from bs4 import BeautifulSoup\n",
    "import requests\n",
    "import pandas as pd"
   ]
  },
  {
   "cell_type": "code",
   "execution_count": 2,
   "id": "1a5cea5d",
   "metadata": {},
   "outputs": [],
   "source": [
    "url = \"http://www.popvortex.com/music/netherlands/top-songs.php\""
   ]
  },
  {
   "cell_type": "code",
   "execution_count": 3,
   "id": "3c4f1c9c",
   "metadata": {},
   "outputs": [
    {
     "data": {
      "text/plain": [
       "200"
      ]
     },
     "execution_count": 3,
     "metadata": {},
     "output_type": "execute_result"
    }
   ],
   "source": [
    "response = requests.get(url)\n",
    "response.status_code"
   ]
  },
  {
   "cell_type": "code",
   "execution_count": 4,
   "id": "6ff92bfd",
   "metadata": {},
   "outputs": [],
   "source": [
    "soup = BeautifulSoup(response.content, \"html.parser\")"
   ]
  },
  {
   "cell_type": "code",
   "execution_count": 5,
   "id": "eb2443fe",
   "metadata": {},
   "outputs": [
    {
     "data": {
      "text/plain": [
       "[<cite class=\"title\">Cold Heart (PNAU Remix)</cite>]"
      ]
     },
     "execution_count": 5,
     "metadata": {},
     "output_type": "execute_result"
    }
   ],
   "source": [
    "soup.select(\"#chart-position-1 > div.chart-content.col-xs-12.col-sm-8 > p > cite\")"
   ]
  },
  {
   "cell_type": "code",
   "execution_count": 6,
   "id": "f317c379",
   "metadata": {},
   "outputs": [
    {
     "data": {
      "text/plain": [
       "'Easy On Me'"
      ]
     },
     "execution_count": 6,
     "metadata": {},
     "output_type": "execute_result"
    }
   ],
   "source": [
    "soup.select(\"p > cite\")[1].get_text()"
   ]
  },
  {
   "cell_type": "code",
   "execution_count": 7,
   "id": "afebd101",
   "metadata": {},
   "outputs": [
    {
     "name": "stdout",
     "output_type": "stream",
     "text": [
      "['Cold Heart (PNAU Remix)', 'Easy On Me', 'Coming Home With Santa', 'Christmas On My Doorstep', 'Do It To It (feat. Cherish)', 'Dat Heb Jij Gedaan', 'To Be Loved', 'Only You', 'Bad Habits', 'Schiddi Widdi Witt', 'Shivers', 'Thunder', 'Moth To A Flame', 'The Motto', 'Hold On', 'Alle Remmen Los', 'Ik Ga Zwemmen', 'Pepas', 'Misschien Huil Ik Niet Hard Genoeg', 'Ons Moeder Zeej Nog', 'Amsterdam', 'Baby Lekker Ding', 'Cover Me In Sunshine', 'Everybody Needs Somebody To Love', 'Mañana', 'Overpass Graffiti', 'Ja Wie Niet Springt (Die Moet Betalen)', 'Ghost', 'All Night Parking (with Erroll Garner) Interlude', 'The Haves', 'Calling', 'All I Want For Christmas Is You', \"It's Beginning To Look a Lot Like Christmas\", \"Non Stop Vol D'r Op\", 'Rise Up', \"Tot Over M'n Oren\", 'Nooit Meer Alcohol', 'Talk About', 'My Universe', 'Where Are You Now', 'love nwantiti (feat. Axel & DJ Yo) [Remix]', 'Time To Say Goodbye (Con te partirò)', 'Hard To Say Goodbye', 'Better Days', 'Dopamine (feat. Eyelar)', 'I Drink Wine', 'Ooh Ahh (My Life Be Like) [feat. Tobymac]', 'Love Tonight (David Guetta Remix)', 'Soundgasm', \"Don't You Want Me (Purple Disco Machine Remix)\", 'Can I Get It', 'Hurricane', 'Alcoholist', 'Strangers By Nature', 'Love Tonight (David Guetta Remix Edit)', 'Streken Van Een Duivel (feat. Frenna)', 'Samen (feat. Yade Lauren)', 'In De Nacht', 'Don’t Cry Me A River', 'Mijn Schat Mijn Vrouw', 'All That You Are', 'Enemy (From the series \"Arcane League of Legends\")', 'Words', 'Steal My Soul', \"Summer Of '71\", 'Dis, quand reviendras-tu? (Arr. Gérard Daguerre)', 'Sterker dan wij twee', 'That Girl', 'Jij Bent Mijn Leven', 'Lieve lach', 'After All This Time', 'Yerevan II', \"Don't Worry What the Experts Say\", 'Daribbaba', 'Choral', 'Rewild Me', 'De wind draait', 'Nooit meer droge ogen', 'God bestaat niet', 'Some Things Just Come Undone', 'Met Alles Wat Ik Heb', 'Over the Fields', 'Vincent', 'Mary Did You Know (Acapella)', 'La fille du régiment, Act I: \"La la la .chacum le sait, chacun le dit\"', 'Christmas Medley', 'Christmas (Baby Please Come Home) (Karaoke Instrumental Track) [In the Style of Mariah Carey]', 'Swipe Up', 'Glory Box (Rock Version)', 'Specularisatie', 'O Come, O Come, Emmanuel', 'Never Forget You', 'feel like s**t', 'Owo', 'The Fantasy Life of Poetry & Crime', 'Christmas Time', 'Soft Skin and Silence', 'Jingle Bells (feat. The Puppini Sisters)', 'erase me (feat. Jacob Collier)', 'Squid']\n"
     ]
    }
   ],
   "source": [
    "song = []\n",
    "\n",
    "num_iter = len(soup.select(\"p > cite\"))\n",
    "\n",
    "for i in range(num_iter):\n",
    "    song.append(soup.select(\"p > cite\")[i].get_text())\n",
    "\n",
    "print(song)\n",
    "\n",
    "top100_song = pd.DataFrame({\"song\":song})"
   ]
  },
  {
   "cell_type": "code",
   "execution_count": 8,
   "id": "d3011a84",
   "metadata": {},
   "outputs": [
    {
     "data": {
      "text/html": [
       "<div>\n",
       "<style scoped>\n",
       "    .dataframe tbody tr th:only-of-type {\n",
       "        vertical-align: middle;\n",
       "    }\n",
       "\n",
       "    .dataframe tbody tr th {\n",
       "        vertical-align: top;\n",
       "    }\n",
       "\n",
       "    .dataframe thead th {\n",
       "        text-align: right;\n",
       "    }\n",
       "</style>\n",
       "<table border=\"1\" class=\"dataframe\">\n",
       "  <thead>\n",
       "    <tr style=\"text-align: right;\">\n",
       "      <th></th>\n",
       "      <th>song</th>\n",
       "    </tr>\n",
       "  </thead>\n",
       "  <tbody>\n",
       "    <tr>\n",
       "      <th>0</th>\n",
       "      <td>Cold Heart (PNAU Remix)</td>\n",
       "    </tr>\n",
       "    <tr>\n",
       "      <th>1</th>\n",
       "      <td>Easy On Me</td>\n",
       "    </tr>\n",
       "    <tr>\n",
       "      <th>2</th>\n",
       "      <td>Coming Home With Santa</td>\n",
       "    </tr>\n",
       "    <tr>\n",
       "      <th>3</th>\n",
       "      <td>Christmas On My Doorstep</td>\n",
       "    </tr>\n",
       "    <tr>\n",
       "      <th>4</th>\n",
       "      <td>Do It To It (feat. Cherish)</td>\n",
       "    </tr>\n",
       "  </tbody>\n",
       "</table>\n",
       "</div>"
      ],
      "text/plain": [
       "                          song\n",
       "0      Cold Heart (PNAU Remix)\n",
       "1                   Easy On Me\n",
       "2       Coming Home With Santa\n",
       "3     Christmas On My Doorstep\n",
       "4  Do It To It (feat. Cherish)"
      ]
     },
     "execution_count": 8,
     "metadata": {},
     "output_type": "execute_result"
    }
   ],
   "source": [
    "top100_song.head()"
   ]
  },
  {
   "cell_type": "code",
   "execution_count": 9,
   "id": "a273221b",
   "metadata": {},
   "outputs": [
    {
     "data": {
      "text/plain": [
       "[<em class=\"artist\">Elton John &amp; Dua Lipa</em>]"
      ]
     },
     "execution_count": 9,
     "metadata": {},
     "output_type": "execute_result"
    }
   ],
   "source": [
    "soup.select(\"#chart-position-1 > div.chart-content.col-xs-12.col-sm-8 > p > em\")"
   ]
  },
  {
   "cell_type": "code",
   "execution_count": 10,
   "id": "be66e0f2",
   "metadata": {
    "scrolled": true
   },
   "outputs": [
    {
     "data": {
      "text/plain": [
       "[<em class=\"artist\">Elton John &amp; Dua Lipa</em>,\n",
       " <em class=\"artist\">Adele</em>,\n",
       " <em class=\"artist\">OG3NE</em>,\n",
       " <em class=\"artist\">OG3NE</em>,\n",
       " <em class=\"artist\">Acraze</em>,\n",
       " <em class=\"artist\">MEAU</em>,\n",
       " <em class=\"artist\">Adele</em>,\n",
       " <em class=\"artist\">Rene Le Blanc</em>,\n",
       " <em class=\"artist\">Ed Sheeran</em>,\n",
       " <em class=\"artist\">Gino Graus</em>,\n",
       " <em class=\"artist\">Ed Sheeran</em>,\n",
       " <em class=\"artist\">Gabry Ponte, LUM!X &amp; Prezioso</em>,\n",
       " <em class=\"artist\">Swedish House Mafia &amp; The Weeknd</em>,\n",
       " <em class=\"artist\">Tiësto &amp; Ava Max</em>,\n",
       " <em class=\"artist\">Adele</em>,\n",
       " <em class=\"artist\">Helemaal Hollands</em>,\n",
       " <em class=\"artist\">Mart Hoogkamer</em>,\n",
       " <em class=\"artist\">Farruko</em>,\n",
       " <em class=\"artist\">Bolland &amp; Bolland</em>,\n",
       " <em class=\"artist\">Jan Biggel</em>,\n",
       " <em class=\"artist\">FLEMMING</em>,\n",
       " <em class=\"artist\">Jeffrey Heesen</em>,\n",
       " <em class=\"artist\">P!nk &amp; Willow Sage Hart</em>,\n",
       " <em class=\"artist\">Danny Froger &amp; Wesley Klein</em>,\n",
       " <em class=\"artist\">Evert Van Huygevoort</em>,\n",
       " <em class=\"artist\">Ed Sheeran</em>,\n",
       " <em class=\"artist\">Gebroeders Ko</em>,\n",
       " <em class=\"artist\">Justin Bieber</em>,\n",
       " <em class=\"artist\">Adele</em>,\n",
       " <em class=\"artist\">Eddie Vedder</em>,\n",
       " <em class=\"artist\">Elephant</em>,\n",
       " <em class=\"artist\">Mariah Carey</em>,\n",
       " <em class=\"artist\">Michael Bublé</em>,\n",
       " <em class=\"artist\">Snollebollekes</em>,\n",
       " <em class=\"artist\">Andra Day</em>,\n",
       " <em class=\"artist\">Bob Offenberg</em>,\n",
       " <em class=\"artist\">Lawineboys</em>,\n",
       " <em class=\"artist\">Rain Radio &amp; DJ Craig Gorman</em>,\n",
       " <em class=\"artist\">Coldplay X BTS</em>,\n",
       " <em class=\"artist\">Lost Frequencies &amp; Calum Scott</em>,\n",
       " <em class=\"artist\">CKay</em>,\n",
       " <em class=\"artist\">André Rieu, Mirusia Louwerse &amp; Johann Strauss Orchestra</em>,\n",
       " <em class=\"artist\">RONDÉ</em>,\n",
       " <em class=\"artist\">Dermot Kennedy</em>,\n",
       " <em class=\"artist\">Purple Disco Machine</em>,\n",
       " <em class=\"artist\">Adele</em>,\n",
       " <em class=\"artist\">Grits</em>,\n",
       " <em class=\"artist\">Shouse &amp; David Guetta</em>,\n",
       " <em class=\"artist\">Rema</em>,\n",
       " <em class=\"artist\">The Human League</em>,\n",
       " <em class=\"artist\">Adele</em>,\n",
       " <em class=\"artist\">Ofenbach &amp; Ella Henderson</em>,\n",
       " <em class=\"artist\">Dopebwoy</em>,\n",
       " <em class=\"artist\">Adele</em>,\n",
       " <em class=\"artist\">Shouse &amp; David Guetta</em>,\n",
       " <em class=\"artist\">Bilal Wahib</em>,\n",
       " <em class=\"artist\">Kevin</em>,\n",
       " <em class=\"artist\">Yade Lauren</em>,\n",
       " <em class=\"artist\">Nona</em>,\n",
       " <em class=\"artist\">John West &amp; Zonzo Basily</em>,\n",
       " <em class=\"artist\">Bear's Den</em>,\n",
       " <em class=\"artist\">Imagine Dragons, JID &amp; League of Legends</em>,\n",
       " <em class=\"artist\">Stefania</em>,\n",
       " <em class=\"artist\">Airbag</em>,\n",
       " <em class=\"artist\">Bolland &amp; Bolland</em>,\n",
       " <em class=\"artist\">Amsterdam Sinfonietta, Thomas Oliemans &amp; Candida Thompson</em>,\n",
       " <em class=\"artist\">De Dijk</em>,\n",
       " <em class=\"artist\">Jah Cure</em>,\n",
       " <em class=\"artist\">John West</em>,\n",
       " <em class=\"artist\">De Dijk</em>,\n",
       " <em class=\"artist\">Heather Nova</em>,\n",
       " <em class=\"artist\">Franco Feruglio, Marco Decimo, Gabriele Baffero, Mauro Loguercio &amp; Djivan Gasparyan</em>,\n",
       " <em class=\"artist\">Heather Nova</em>,\n",
       " <em class=\"artist\">Bilal Göregen</em>,\n",
       " <em class=\"artist\">Arild Andersen, Vassilis Tsabropoulos &amp; John Marshall</em>,\n",
       " <em class=\"artist\">Heather Nova</em>,\n",
       " <em class=\"artist\">De Dijk</em>,\n",
       " <em class=\"artist\">De Dijk</em>,\n",
       " <em class=\"artist\">De Dijk</em>,\n",
       " <em class=\"artist\">Heather Nova</em>,\n",
       " <em class=\"artist\">De Dijk</em>,\n",
       " <em class=\"artist\">Heather Nova</em>,\n",
       " <em class=\"artist\">Heather Nova</em>,\n",
       " <em class=\"artist\">Cimorelli</em>,\n",
       " <em class=\"artist\">Dame Joan Sutherland, Chorus of the Royal Opera House, Covent Garden, Richard Bonynge, Luciano Pavarotti, Orchestra of the Royal Opera House, Covent Garden &amp; Spiro Malas</em>,\n",
       " <em class=\"artist\">Clamavi De Profundis</em>,\n",
       " <em class=\"artist\">ProSound Karaoke Band</em>,\n",
       " <em class=\"artist\">Sleazy Stereo &amp; Matjo &amp; Morena</em>,\n",
       " <em class=\"artist\">Violet Orlandi</em>,\n",
       " <em class=\"artist\">Bernd van den Bos</em>,\n",
       " <em class=\"artist\">Cimorelli</em>,\n",
       " <em class=\"artist\">Dutchavelli</em>,\n",
       " <em class=\"artist\">Tate McRae</em>,\n",
       " <em class=\"artist\">SXTEEN &amp; Issairo</em>,\n",
       " <em class=\"artist\">Peter Doherty &amp; Frédéric Lo</em>,\n",
       " <em class=\"artist\">Gareth Rhys</em>,\n",
       " <em class=\"artist\">Simona</em>,\n",
       " <em class=\"artist\">Michael Bublé</em>,\n",
       " <em class=\"artist\">Lizzy McAlpine</em>,\n",
       " <em class=\"artist\">Deborah de Luca</em>]"
      ]
     },
     "execution_count": 10,
     "metadata": {},
     "output_type": "execute_result"
    }
   ],
   "source": [
    "soup.select(\"p > em\")"
   ]
  },
  {
   "cell_type": "code",
   "execution_count": 11,
   "id": "64d5afed",
   "metadata": {},
   "outputs": [
    {
     "data": {
      "text/plain": [
       "'Adele'"
      ]
     },
     "execution_count": 11,
     "metadata": {},
     "output_type": "execute_result"
    }
   ],
   "source": [
    "soup.select(\"p > em\")[1].get_text()"
   ]
  },
  {
   "cell_type": "code",
   "execution_count": 12,
   "id": "e7b8351f",
   "metadata": {},
   "outputs": [
    {
     "name": "stdout",
     "output_type": "stream",
     "text": [
      "['Elton John & Dua Lipa', 'Adele', 'OG3NE', 'OG3NE', 'Acraze', 'MEAU', 'Adele', 'Rene Le Blanc', 'Ed Sheeran', 'Gino Graus', 'Ed Sheeran', 'Gabry Ponte, LUM!X & Prezioso', 'Swedish House Mafia & The Weeknd', 'Tiësto & Ava Max', 'Adele', 'Helemaal Hollands', 'Mart Hoogkamer', 'Farruko', 'Bolland & Bolland', 'Jan Biggel', 'FLEMMING', 'Jeffrey Heesen', 'P!nk & Willow Sage Hart', 'Danny Froger & Wesley Klein', 'Evert Van Huygevoort', 'Ed Sheeran', 'Gebroeders Ko', 'Justin Bieber', 'Adele', 'Eddie Vedder', 'Elephant', 'Mariah Carey', 'Michael Bublé', 'Snollebollekes', 'Andra Day', 'Bob Offenberg', 'Lawineboys', 'Rain Radio & DJ Craig Gorman', 'Coldplay X BTS', 'Lost Frequencies & Calum Scott', 'CKay', 'André Rieu, Mirusia Louwerse & Johann Strauss Orchestra', 'RONDÉ', 'Dermot Kennedy', 'Purple Disco Machine', 'Adele', 'Grits', 'Shouse & David Guetta', 'Rema', 'The Human League', 'Adele', 'Ofenbach & Ella Henderson', 'Dopebwoy', 'Adele', 'Shouse & David Guetta', 'Bilal Wahib', 'Kevin', 'Yade Lauren', 'Nona', 'John West & Zonzo Basily', \"Bear's Den\", 'Imagine Dragons, JID & League of Legends', 'Stefania', 'Airbag', 'Bolland & Bolland', 'Amsterdam Sinfonietta, Thomas Oliemans & Candida Thompson', 'De Dijk', 'Jah Cure', 'John West', 'De Dijk', 'Heather Nova', 'Franco Feruglio, Marco Decimo, Gabriele Baffero, Mauro Loguercio & Djivan Gasparyan', 'Heather Nova', 'Bilal Göregen', 'Arild Andersen, Vassilis Tsabropoulos & John Marshall', 'Heather Nova', 'De Dijk', 'De Dijk', 'De Dijk', 'Heather Nova', 'De Dijk', 'Heather Nova', 'Heather Nova', 'Cimorelli', 'Dame Joan Sutherland, Chorus of the Royal Opera House, Covent Garden, Richard Bonynge, Luciano Pavarotti, Orchestra of the Royal Opera House, Covent Garden & Spiro Malas', 'Clamavi De Profundis', 'ProSound Karaoke Band', 'Sleazy Stereo & Matjo & Morena', 'Violet Orlandi', 'Bernd van den Bos', 'Cimorelli', 'Dutchavelli', 'Tate McRae', 'SXTEEN & Issairo', 'Peter Doherty & Frédéric Lo', 'Gareth Rhys', 'Simona', 'Michael Bublé', 'Lizzy McAlpine', 'Deborah de Luca']\n"
     ]
    }
   ],
   "source": [
    "artist = []\n",
    "\n",
    "n_iter = len(soup.select(\"p > em\"))\n",
    "\n",
    "for i in range(n_iter):\n",
    "    artist.append(soup.select(\"p > em\")[i].get_text())\n",
    "\n",
    "print(artist)\n",
    "\n",
    "top100_artist = pd.DataFrame({\"artist\":artist})"
   ]
  },
  {
   "cell_type": "code",
   "execution_count": 13,
   "id": "a5e7d4bf",
   "metadata": {},
   "outputs": [
    {
     "data": {
      "text/html": [
       "<div>\n",
       "<style scoped>\n",
       "    .dataframe tbody tr th:only-of-type {\n",
       "        vertical-align: middle;\n",
       "    }\n",
       "\n",
       "    .dataframe tbody tr th {\n",
       "        vertical-align: top;\n",
       "    }\n",
       "\n",
       "    .dataframe thead th {\n",
       "        text-align: right;\n",
       "    }\n",
       "</style>\n",
       "<table border=\"1\" class=\"dataframe\">\n",
       "  <thead>\n",
       "    <tr style=\"text-align: right;\">\n",
       "      <th></th>\n",
       "      <th>artist</th>\n",
       "      <th>song</th>\n",
       "    </tr>\n",
       "  </thead>\n",
       "  <tbody>\n",
       "    <tr>\n",
       "      <th>0</th>\n",
       "      <td>Elton John &amp; Dua Lipa</td>\n",
       "      <td>Cold Heart (PNAU Remix)</td>\n",
       "    </tr>\n",
       "    <tr>\n",
       "      <th>1</th>\n",
       "      <td>Adele</td>\n",
       "      <td>Easy On Me</td>\n",
       "    </tr>\n",
       "    <tr>\n",
       "      <th>2</th>\n",
       "      <td>OG3NE</td>\n",
       "      <td>Coming Home With Santa</td>\n",
       "    </tr>\n",
       "    <tr>\n",
       "      <th>3</th>\n",
       "      <td>OG3NE</td>\n",
       "      <td>Christmas On My Doorstep</td>\n",
       "    </tr>\n",
       "    <tr>\n",
       "      <th>4</th>\n",
       "      <td>Acraze</td>\n",
       "      <td>Do It To It (feat. Cherish)</td>\n",
       "    </tr>\n",
       "    <tr>\n",
       "      <th>...</th>\n",
       "      <td>...</td>\n",
       "      <td>...</td>\n",
       "    </tr>\n",
       "    <tr>\n",
       "      <th>95</th>\n",
       "      <td>Gareth Rhys</td>\n",
       "      <td>Christmas Time</td>\n",
       "    </tr>\n",
       "    <tr>\n",
       "      <th>96</th>\n",
       "      <td>Simona</td>\n",
       "      <td>Soft Skin and Silence</td>\n",
       "    </tr>\n",
       "    <tr>\n",
       "      <th>97</th>\n",
       "      <td>Michael Bublé</td>\n",
       "      <td>Jingle Bells (feat. The Puppini Sisters)</td>\n",
       "    </tr>\n",
       "    <tr>\n",
       "      <th>98</th>\n",
       "      <td>Lizzy McAlpine</td>\n",
       "      <td>erase me (feat. Jacob Collier)</td>\n",
       "    </tr>\n",
       "    <tr>\n",
       "      <th>99</th>\n",
       "      <td>Deborah de Luca</td>\n",
       "      <td>Squid</td>\n",
       "    </tr>\n",
       "  </tbody>\n",
       "</table>\n",
       "<p>100 rows × 2 columns</p>\n",
       "</div>"
      ],
      "text/plain": [
       "                   artist                                      song\n",
       "0   Elton John & Dua Lipa                   Cold Heart (PNAU Remix)\n",
       "1                   Adele                                Easy On Me\n",
       "2                   OG3NE                    Coming Home With Santa\n",
       "3                   OG3NE                  Christmas On My Doorstep\n",
       "4                  Acraze               Do It To It (feat. Cherish)\n",
       "..                    ...                                       ...\n",
       "95            Gareth Rhys                            Christmas Time\n",
       "96                 Simona                     Soft Skin and Silence\n",
       "97          Michael Bublé  Jingle Bells (feat. The Puppini Sisters)\n",
       "98         Lizzy McAlpine            erase me (feat. Jacob Collier)\n",
       "99        Deborah de Luca                                     Squid\n",
       "\n",
       "[100 rows x 2 columns]"
      ]
     },
     "execution_count": 13,
     "metadata": {},
     "output_type": "execute_result"
    }
   ],
   "source": [
    "top100 = pd.concat([top100_artist, top100_song], axis = 1)\n",
    "top100"
   ]
  }
 ],
 "metadata": {
  "kernelspec": {
   "display_name": "Python 3",
   "language": "python",
   "name": "python3"
  },
  "language_info": {
   "codemirror_mode": {
    "name": "ipython",
    "version": 3
   },
   "file_extension": ".py",
   "mimetype": "text/x-python",
   "name": "python",
   "nbconvert_exporter": "python",
   "pygments_lexer": "ipython3",
   "version": "3.8.8"
  }
 },
 "nbformat": 4,
 "nbformat_minor": 5
}
